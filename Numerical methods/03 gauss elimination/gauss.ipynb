{
 "cells": [
  {
   "cell_type": "code",
   "execution_count": 269,
   "metadata": {},
   "outputs": [],
   "source": [
    "import pandas as pd\n",
    "import numpy as np\n",
    "import matplotlib.pyplot as plt\n",
    "\n",
    "np.set_printoptions(suppress=True, formatter={'float_kind':'{:.3f}'.format})"
   ]
  },
  {
   "cell_type": "markdown",
   "metadata": {},
   "source": [
    "## Wczytanie danych z plików"
   ]
  },
  {
   "cell_type": "code",
   "execution_count": 270,
   "metadata": {},
   "outputs": [
    {
     "name": "stdout",
     "output_type": "stream",
     "text": [
      "    0   1   2  3   4   5\n",
      "0   0   5  11  3  -2 -16\n",
      "1  11   0   2 -9  -2   4\n",
      "2 -12 -13   0  6 -16  17\n",
      "3  19   6  -2  0  -7  18\n",
      "4   3 -12   2  1   0 -13\n"
     ]
    },
    {
     "data": {
      "text/plain": [
       "(array([[0.000, 5.000, 11.000, 3.000, -2.000],\n",
       "        [11.000, 0.000, 2.000, -9.000, -2.000],\n",
       "        [-12.000, -13.000, 0.000, 6.000, -16.000],\n",
       "        [19.000, 6.000, -2.000, 0.000, -7.000],\n",
       "        [3.000, -12.000, 2.000, 1.000, 0.000]]),\n",
       " array([-16.000, 4.000, 17.000, 18.000, -13.000]))"
      ]
     },
     "execution_count": 270,
     "metadata": {},
     "output_type": "execute_result"
    }
   ],
   "source": [
    "matrix = pd.read_csv('C.csv', header=None)\n",
    "\n",
    "n = len(matrix)\n",
    "print(matrix)\n",
    "\n",
    "a = np.array(matrix.iloc[:, :n], dtype=float) \n",
    "b = np.array(matrix.iloc[:, n], dtype=float)\n",
    "a, b"
   ]
  },
  {
   "cell_type": "markdown",
   "metadata": {},
   "source": [
    "## Pivot wierszy"
   ]
  },
  {
   "cell_type": "code",
   "execution_count": 271,
   "metadata": {},
   "outputs": [],
   "source": [
    "def pivot_matrix(a, k):\n",
    "    max_indc = int()\n",
    "    max = a[0, k]\n",
    "    for i, el in enumerate(a[:, k]):\n",
    "        if np.abs(el) > max:\n",
    "            max_indc = i\n",
    "            max = el\n",
    "    bufor = np.copy(a[k, :])\n",
    "    a[k, :] = a[max_indc, :]\n",
    "    a[max_indc, :] = bufor\n",
    "    return a "
   ]
  },
  {
   "cell_type": "markdown",
   "metadata": {},
   "source": [
    "## Zbadanie niezależności wierszy"
   ]
  },
  {
   "cell_type": "code",
   "execution_count": 272,
   "metadata": {},
   "outputs": [
    {
     "name": "stdout",
     "output_type": "stream",
     "text": [
      "rząd macierzy: 5 wymiar: 5\n"
     ]
    }
   ],
   "source": [
    "def check_independence(a):\n",
    "    print('rząd macierzy:', np.linalg.matrix_rank(a), 'wymiar:', a.shape[0])\n",
    "    if np.linalg.matrix_rank(a) < a.shape[0]:\n",
    "        return True\n",
    "    else:\n",
    "        return False\n",
    "    \n",
    "if check_independence(a):\n",
    "    print('w macierzy znajdują się wiersze liniowo zależne ')"
   ]
  },
  {
   "cell_type": "markdown",
   "metadata": {},
   "source": [
    "## Stworzenie macierzy schodkowej"
   ]
  },
  {
   "cell_type": "code",
   "execution_count": 273,
   "metadata": {},
   "outputs": [
    {
     "name": "stdout",
     "output_type": "stream",
     "text": [
      "element zerowy na pozycji: 0 0\n",
      "[[0.000 5.000 11.000 3.000 -2.000]\n",
      " [11.000 0.000 2.000 -9.000 -2.000]\n",
      " [-12.000 -13.000 0.000 6.000 -16.000]\n",
      " [19.000 6.000 -2.000 0.000 -7.000]\n",
      " [3.000 -12.000 2.000 1.000 0.000]]\n",
      "\n",
      " [[19.000 6.000 -2.000 0.000 -7.000]\n",
      " [11.000 0.000 2.000 -9.000 -2.000]\n",
      " [-12.000 -13.000 0.000 6.000 -16.000]\n",
      " [0.000 5.000 11.000 3.000 -2.000]\n",
      " [3.000 -12.000 2.000 1.000 0.000]]\n"
     ]
    },
    {
     "data": {
      "text/plain": [
       "(array([[19.000, 6.000, -2.000, 0.000, -7.000],\n",
       "        [0.000, -3.474, 3.158, -9.000, 2.053],\n",
       "        [0.000, 0.000, -9.636, 29.864, -25.864],\n",
       "        [0.000, 0.000, 0.000, 38.222, -40.769],\n",
       "        [0.000, 0.000, 0.000, -0.000, 24.425]]),\n",
       " array([-16.000, 13.263, -28.273, -8.519, -31.001]))"
      ]
     },
     "execution_count": 273,
     "metadata": {},
     "output_type": "execute_result"
    }
   ],
   "source": [
    "for k in range(0, n-1):\n",
    "    for i in range(k+1, n):\n",
    "        if a[k,k] == 0:\n",
    "            print('element zerowy na pozycji:', k, k)\n",
    "            print(a)\n",
    "            a = pivot_matrix(a, k)\n",
    "            print('\\n',a)\n",
    "        ratio = a[i, k] / a[k, k]\n",
    "        for j in range(k, n):\n",
    "            a[i, j] -= ratio * a[k, j]\n",
    "        b[i] -= ratio * b[k]\n",
    "        #print(a, '\\n')\n",
    "        #print(b, '\\n')\n",
    "a, b"
   ]
  },
  {
   "cell_type": "markdown",
   "metadata": {},
   "source": [
    "## Obliczenie niewiadomych "
   ]
  },
  {
   "cell_type": "code",
   "execution_count": 274,
   "metadata": {},
   "outputs": [
    {
     "data": {
      "text/plain": [
       "array([-1.422, 0.839, 1.454, -1.577, -1.269])"
      ]
     },
     "execution_count": 274,
     "metadata": {},
     "output_type": "execute_result"
    }
   ],
   "source": [
    "x = np.zeros(n)\n",
    "x[-1] = b[-1] / a[n-1,n-1]\n",
    "\n",
    "for i in range(n - 2, -1, -1):\n",
    "    x[i] = (b[i] - sum([a[i][j] * x[j] for j in range(i+1, n)])) / a[i,i]\n",
    "\n",
    "x"
   ]
  }
 ],
 "metadata": {
  "kernelspec": {
   "display_name": "Python 3",
   "language": "python",
   "name": "python3"
  },
  "language_info": {
   "codemirror_mode": {
    "name": "ipython",
    "version": 3
   },
   "file_extension": ".py",
   "mimetype": "text/x-python",
   "name": "python",
   "nbconvert_exporter": "python",
   "pygments_lexer": "ipython3",
   "version": "3.12.0"
  }
 },
 "nbformat": 4,
 "nbformat_minor": 2
}
